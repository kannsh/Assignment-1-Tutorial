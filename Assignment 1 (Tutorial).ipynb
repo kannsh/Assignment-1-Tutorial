{
 "cells": [
  {
   "cell_type": "markdown",
   "metadata": {},
   "source": [
    "# Lets get started with Assignment 1!\n",
    "\n",
    "First create a function for each operation\n",
    "The '(x, y)' are arguments for variables 'num1' and 'num2' \n",
    "\n",
    "There are 4 operations, HCF, LCM, Bitwise OR & Bitwise AND\n",
    "The OR & AND are symbols similar to + & -"
   ]
  },
  {
   "cell_type": "code",
   "execution_count": 1,
   "metadata": {},
   "outputs": [],
   "source": [
    "def HCF(x,y):\n",
    "    \n",
    "    # Choose smaller number\n",
    "    if x > y:\n",
    "        smaller = y\n",
    "    else:\n",
    "        smaller = x\n",
    "    for i in range(1, smaller+1):\n",
    "        if((x % i == 0) and (y % i == 0)):\n",
    "            hcf = i\n",
    "    return hcf\n",
    "\n",
    "def LCM(x,y):\n",
    "    \n",
    "    # Choose greater number\n",
    "    if x > y:\n",
    "        greater = x\n",
    "    else: \n",
    "        greater = y\n",
    "    while(True):\n",
    "        if((greater % x == 0) and (greater % y == 0)):\n",
    "            lcm = greater\n",
    "            break\n",
    "        greater += 1\n",
    "    return lcm\n",
    "\n",
    "def OR(x,y):\n",
    "    return x|y\n",
    "\n",
    "\n",
    "def AND(x,y):\n",
    "    return x&y"
   ]
  },
  {
   "cell_type": "markdown",
   "metadata": {},
   "source": [
    "Now we print the output which shows the operations "
   ]
  },
  {
   "cell_type": "code",
   "execution_count": 6,
   "metadata": {},
   "outputs": [
    {
     "name": "stdout",
     "output_type": "stream",
     "text": [
      "Enter Operation\n",
      "1. HCF\n",
      "2. LCM\n",
      "3. Bitwise OR\n",
      "4. Bitwise AND\n",
      "\n"
     ]
    }
   ],
   "source": [
    "print(\"Enter Operation\")     \n",
    "print(\"1. HCF\")              \n",
    "print(\"2. LCM\")            \n",
    "print(\"3. Bitwise OR\")       \n",
    "print(\"4. Bitwise AND\\n\")  "
   ]
  },
  {
   "cell_type": "markdown",
   "metadata": {},
   "source": [
    "We can assign a string variable called 'choice' to get input from user\n",
    "\n",
    "Since we need the user to enter two values, we assign two string variables called 'num1' and 'num2'\n",
    "\n",
    "use 'int(input)' to declare integers, float will not be accepted unless 'float(input)' is used"
   ]
  },
  {
   "cell_type": "code",
   "execution_count": 8,
   "metadata": {},
   "outputs": [
    {
     "name": "stdout",
     "output_type": "stream",
     "text": [
      "Enter choice(1/2/3/4): 3\n",
      "Enter first number: 4\n",
      "Enter second number: 5\n"
     ]
    }
   ],
   "source": [
    "#Get choice\n",
    "choice = input(\"Enter choice(1/2/3/4): \")\n",
    "\n",
    "#Get num1 and num2 (With INT to declare INT value)\n",
    "num1 = int(input(\"Enter first number: \"))\n",
    "num2 = int(input(\"Enter second number: \"))"
   ]
  },
  {
   "cell_type": "markdown",
   "metadata": {},
   "source": [
    "Use an if, else if, else statement to determine which operation to use for choice specified\n",
    "\n",
    "Using 'return' in our function allows us to get the returned value after passing 'num1' and 'num2' as '{x,y}'"
   ]
  },
  {
   "cell_type": "code",
   "execution_count": 9,
   "metadata": {},
   "outputs": [
    {
     "name": "stdout",
     "output_type": "stream",
     "text": [
      "Bitwise OR of  4 and 5 is  5\n"
     ]
    }
   ],
   "source": [
    "if choice == '1':\n",
    "     print(\"HCF of \", num1, \"and\", num2, \"is \", HCF(num1,num2))\n",
    "        \n",
    "elif choice == '2':\n",
    "     print(\"LCM of \", num1, \"and\", num2, \"is \", LCM(num1,num2))\n",
    "        \n",
    "elif choice == '3':\n",
    "     print(\"Bitwise OR of \", num1, \"and\", num2, \"is \", OR(num1,num2))\n",
    "        \n",
    "elif choice == '4':\n",
    "     print(\"Bitwise AND \", num1, \"and\", num2, \"is \", AND(num1,num2))\n",
    "        \n",
    "else:\n",
    "     print(\"Please try again\")"
   ]
  },
  {
   "cell_type": "markdown",
   "metadata": {},
   "source": [
    "Assignment 1 has been completed!"
   ]
  },
  {
   "cell_type": "code",
   "execution_count": 10,
   "metadata": {},
   "outputs": [
    {
     "name": "stdout",
     "output_type": "stream",
     "text": [
      "Enter Operation\n",
      "1. HCF\n",
      "2. LCM\n",
      "3. Bitwise OR\n",
      "4. Bitwise AND\n",
      "\n",
      "Enter choice(1/2/3/4): 2\n",
      "Enter first number: 2\n",
      "Enter second number: 2\n",
      "LCM of  2 and 2 is  2\n"
     ]
    }
   ],
   "source": [
    "def HCF(x,y):\n",
    "    \n",
    "    # Choose smaller number\n",
    "    if x > y:\n",
    "        smaller = y\n",
    "    else:\n",
    "        smaller = x\n",
    "    for i in range(1, smaller+1):\n",
    "        if((x % i == 0) and (y % i == 0)):\n",
    "            hcf = i\n",
    "    return hcf\n",
    "\n",
    "def LCM(x,y):\n",
    "    \n",
    "    # Choose greater number\n",
    "    if x > y:\n",
    "        greater = x\n",
    "    else: \n",
    "        greater = y\n",
    "    while(True):\n",
    "        if((greater % x == 0) and (greater % y == 0)):\n",
    "            lcm = greater\n",
    "            break\n",
    "        greater += 1\n",
    "    return lcm\n",
    "\n",
    "def OR(x,y):\n",
    "    return x|y\n",
    "\n",
    "\n",
    "def AND(x,y):\n",
    "    return x&y\n",
    "print(\"Enter Operation\")     \n",
    "print(\"1. HCF\")              \n",
    "print(\"2. LCM\")            \n",
    "print(\"3. Bitwise OR\")       \n",
    "print(\"4. Bitwise AND\\n\")  \n",
    "\n",
    "#Get choice\n",
    "choice = input(\"Enter choice(1/2/3/4): \")\n",
    "\n",
    "#Get num1 and num2 (With INT to declare INT value)\n",
    "num1 = int(input(\"Enter first number: \"))\n",
    "num2 = int(input(\"Enter second number: \"))\n",
    "\n",
    "#Use Else If for selection of operator (Replace switch case)\n",
    "if choice == '1':\n",
    "     print(\"HCF of \", num1, \"and\", num2, \"is \", HCF(num1,num2))\n",
    "        \n",
    "elif choice == '2':\n",
    "     print(\"LCM of \", num1, \"and\", num2, \"is \", LCM(num1,num2))\n",
    "        \n",
    "elif choice == '3':\n",
    "     print(\"Bitwise OR of \", num1, \"and\", num2, \"is \", OR(num1,num2))\n",
    "        \n",
    "elif choice == '4':\n",
    "     print(\"Bitwise AND \", num1, \"and\", num2, \"is \", AND(num1,num2))\n",
    "        \n",
    "else:\n",
    "     print(\"Please try again\")"
   ]
  }
 ],
 "metadata": {
  "kernelspec": {
   "display_name": "Python 3",
   "language": "python",
   "name": "python3"
  },
  "language_info": {
   "codemirror_mode": {
    "name": "ipython",
    "version": 3
   },
   "file_extension": ".py",
   "mimetype": "text/x-python",
   "name": "python",
   "nbconvert_exporter": "python",
   "pygments_lexer": "ipython3",
   "version": "3.7.7"
  }
 },
 "nbformat": 4,
 "nbformat_minor": 4
}
